{
  "nbformat": 4,
  "nbformat_minor": 0,
  "metadata": {
    "colab": {
      "provenance": [],
      "authorship_tag": "ABX9TyPAAbBxt3E+U0cGpxBQN0oj",
      "include_colab_link": true
    },
    "kernelspec": {
      "name": "python3",
      "display_name": "Python 3"
    },
    "language_info": {
      "name": "python"
    }
  },
  "cells": [
    {
      "cell_type": "markdown",
      "metadata": {
        "id": "view-in-github",
        "colab_type": "text"
      },
      "source": [
        "<a href=\"https://colab.research.google.com/github/funda-kabakll/hu-bby162-2023/blob/main/Proje01.ipynb\" target=\"_parent\"><img src=\"https://colab.research.google.com/assets/colab-badge.svg\" alt=\"Open In Colab\"/></a>"
      ]
    },
    {
      "cell_type": "markdown",
      "source": [
        "# Yapılacak işler listesi oluşturuyoruz..."
      ],
      "metadata": {
        "id": "KroWzpU1AEGX"
      }
    },
    {
      "cell_type": "code",
      "execution_count": 1,
      "metadata": {
        "id": "5G2Jx-c94BUB",
        "colab": {
          "base_uri": "https://localhost:8080/"
        },
        "outputId": "b9407f83-6093-4a4d-bd25-5c22483556d7"
      },
      "outputs": [
        {
          "output_type": "stream",
          "name": "stdout",
          "text": [
            "Kesinlikle yapılacaklar! --> ('1. Erken uyanılacak', '2. Spor yapılacak')\n"
          ]
        }
      ],
      "source": [
        "kesinYap = (\"1. Erken uyanılacak\", \"2. Spor yapılacak\")\n",
        "print(\"Kesinlikle yapılacaklar! --> \" + str(kesinYap))\n",
        "yap = {}"
      ]
    },
    {
      "cell_type": "code",
      "source": [
        "# İşlere 2 yeni iş eklensin...\n",
        "anahtar = \"3. \"\n",
        "cevap = input(\"Senin Hedefin Ne? --> \")\n",
        "yap[anahtar] = cevap\n",
        "\n",
        "anahtarİki = \"4. \"\n",
        "ikinciCevap = input(\"Yapabilirsin! Bir hedefin daha olmalı... Diğeri ne? --> \")\n",
        "yap[anahtarİki] = ikinciCevap\n",
        "print(\"Eklenen hedefler: %s, %s\" % (cevap.capitalize(), ikinciCevap.capitalize()))\n"
      ],
      "metadata": {
        "id": "uZSRWxc44Pm8",
        "colab": {
          "base_uri": "https://localhost:8080/"
        },
        "outputId": "b0716b6e-93d3-48e5-886c-ff273646ef49"
      },
      "execution_count": 2,
      "outputs": [
        {
          "output_type": "stream",
          "name": "stdout",
          "text": [
            "Senin Hedefin Ne? --> yarım saat kitap okunacak\n",
            "Yapabilirsin! Bir hedefin daha olmalı... Diğeri ne? --> oda düzenlenecek\n",
            "Eklenen hedefler: Yarım saat kitap okunacak, Oda düzenlenecek\n"
          ]
        }
      ]
    },
    {
      "cell_type": "code",
      "source": [
        "# İş güncellenir...\n",
        "cevap= \"Bir saat kitap okunacak\"\n",
        "yap[anahtar] = cevap\n",
        "print(\"İlk hedefin bu olabilir: Bir saat kitap okunacak\")\n",
        "print(\"Güncel listen: %s, %s\" % (kesinYap, yap))"
      ],
      "metadata": {
        "id": "rFgAE4IpQmOF",
        "colab": {
          "base_uri": "https://localhost:8080/"
        },
        "outputId": "2228e08e-ec85-43ed-829b-2b1d62ead8cf"
      },
      "execution_count": 3,
      "outputs": [
        {
          "output_type": "stream",
          "name": "stdout",
          "text": [
            "İlk hedefin bu olabilir: Bir saat kitap okunacak\n",
            "Güncel listen: ('1. Erken uyanılacak', '2. Spor yapılacak'), {'3. ': 'Bir saat kitap okunacak', '4. ': 'Oda düzenlenecek'}\n"
          ]
        }
      ]
    },
    {
      "cell_type": "code",
      "source": [
        "#Eklenen işlerden biri silinir\n",
        "print(\"Bu iş senin için çocuk oyuncağı: \" + ikinciCevap.capitalize())\n",
        "del yap[\"4. \"]\n",
        "print(\"Yeni listene bak: %s, %s\" % (kesinYap, yap))"
      ],
      "metadata": {
        "id": "mPAV9Wa5I_GF",
        "colab": {
          "base_uri": "https://localhost:8080/"
        },
        "outputId": "5b6bf374-fe16-4cb4-f805-8a0e3fc33f6f"
      },
      "execution_count": 4,
      "outputs": [
        {
          "output_type": "stream",
          "name": "stdout",
          "text": [
            "Bu iş senin için çocuk oyuncağı: Oda düzenlenecek\n",
            "Yeni listene bak: ('1. Erken uyanılacak', '2. Spor yapılacak'), {'3. ': 'Bir saat kitap okunacak'}\n"
          ]
        }
      ]
    },
    {
      "cell_type": "code",
      "source": [
        "#Tüm işler silinir\n",
        "print(\"Günün sonundaki yapılacaklar listen: \")\n",
        "del yap[\"3. \"]\n",
        "print(\"Harikasın! Tüm işler tamamlandı.\")"
      ],
      "metadata": {
        "id": "QYXkbERV5jqS",
        "colab": {
          "base_uri": "https://localhost:8080/"
        },
        "outputId": "68e32a2d-62f7-44a4-f118-0a731e5f63ac"
      },
      "execution_count": 5,
      "outputs": [
        {
          "output_type": "stream",
          "name": "stdout",
          "text": [
            "Günün sonundaki yapılacaklar listen: \n",
            "Harikasın! Tüm işler tamamlandı.\n"
          ]
        }
      ]
    }
  ]
}